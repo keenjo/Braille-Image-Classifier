{
 "cells": [
  {
   "cell_type": "code",
   "execution_count": 1,
   "id": "c79d4013",
   "metadata": {},
   "outputs": [],
   "source": [
    "import torch\n",
    "import torch.nn as nn\n",
    "from torchvision import transforms, datasets\n",
    "from torch.utils.data import DataLoader, Subset, random_split\n",
    "import numpy as np\n",
    "import matplotlib.pyplot as plt\n",
    "import copy\n",
    "from data_prep import ImageDataset"
   ]
  },
  {
   "cell_type": "code",
   "execution_count": 2,
   "id": "c46a6723",
   "metadata": {},
   "outputs": [],
   "source": [
    "# Instantiating the dataset\n",
    "dataset = ImageDataset()\n",
    "# Splitting the dataset\n",
    "split_data = random_split(dataset, [1248, 156, 156], generator=torch.Generator().manual_seed(54))\n",
    "train_data, val_data, test_data = split_data\n",
    "\n",
    "batch_size = 8\n",
    "\n",
    "# Creating the dataloaders\n",
    "train_dataloader = DataLoader(train_data, batch_size=batch_size, shuffle=True)\n",
    "test_dataloader = DataLoader(test_data, batch_size=batch_size, shuffle=True)\n",
    "val_dataloader = DataLoader(val_data, batch_size=batch_size, shuffle=True)"
   ]
  },
  {
   "cell_type": "code",
   "execution_count": 3,
   "id": "682cfbcd",
   "metadata": {},
   "outputs": [
    {
     "name": "stdout",
     "output_type": "stream",
     "text": [
      "Batch shape [batch_size, image_shape]: torch.Size([8, 3, 28, 28])\n",
      "Number of batches: 156\n"
     ]
    }
   ],
   "source": [
    "# Checking that the data has the correct shape\n",
    "train_batch_data, train_batch_name = next(iter(train_dataloader))\n",
    "print(f'Batch shape [batch_size, image_shape]: {train_batch_data.shape}')\n",
    "print('Number of batches:', len(train_dataloader))"
   ]
  },
  {
   "cell_type": "code",
   "execution_count": 4,
   "id": "7e67951c",
   "metadata": {},
   "outputs": [
    {
     "name": "stdout",
     "output_type": "stream",
     "text": [
      "26\n"
     ]
    }
   ],
   "source": [
    "# Getting the number of classes for our data\n",
    "labels = []\n",
    "for x in train_data:\n",
    "    labels.append(x[1])\n",
    "    \n",
    "num_classes = len(list(set(labels)))\n",
    "print(num_classes)"
   ]
  },
  {
   "cell_type": "code",
   "execution_count": 5,
   "id": "fd806ee5",
   "metadata": {},
   "outputs": [],
   "source": [
    "# Initialization function\n",
    "def init_weights(m):\n",
    "    if isinstance(m, nn.Linear) or isinstance(m, nn.Conv2d):\n",
    "        torch.nn.init.xavier_uniform_(m.weight.data)\n",
    "        m.bias.data.fill_(0.01)\n",
    "    return"
   ]
  },
  {
   "cell_type": "code",
   "execution_count": 6,
   "id": "5777840e",
   "metadata": {},
   "outputs": [],
   "source": [
    "# Defining the CNN Classifier\n",
    "class CNNClassif(nn.Module):\n",
    "    def __init__(self, num_channels1=16, num_channels2=32, num_channels3=64, num_classes=10):\n",
    "        super(CNNClassif, self).__init__()\n",
    "        self.cnn_layer1 = nn.Sequential(nn.Conv2d(3, num_channels1, kernel_size=5, padding=2), \n",
    "                                   nn.ReLU(),\n",
    "                                   nn.MaxPool2d(kernel_size=2))\n",
    "        self.cnn_layer2 = nn.Sequential(nn.Conv2d(num_channels1, num_channels2, kernel_size=5, padding=2), \n",
    "                                   nn.ReLU(),\n",
    "                                   nn.MaxPool2d(kernel_size=2))\n",
    "        self.cnn_layer3 = nn.Sequential(nn.Conv2d(num_channels2, num_channels3, kernel_size=3, padding=2), \n",
    "                                   nn.ReLU(),\n",
    "                                   nn.MaxPool2d(kernel_size=2))\n",
    "        self.linear_layer1 = nn.Sequential(nn.Linear(num_channels3*4*4, 64), nn.ReLU())\n",
    "        self.linear_layer2 = nn.Sequential(nn.Linear(64, num_classes), nn.ReLU())\n",
    "        \n",
    "    def forward(self, x):\n",
    "        w = self.cnn_layer1(x)\n",
    "        y = self.cnn_layer2(w)\n",
    "        z = self.cnn_layer3(y)\n",
    "        #print(z.shape) # This shape will help you give correct input shape to linear_layer1\n",
    "        z2 = z.reshape(z.shape[0], -1)\n",
    "        lin1 = self.linear_layer1(z2)\n",
    "        out = self.linear_layer2(lin1)\n",
    "        return out "
   ]
  },
  {
   "cell_type": "code",
   "execution_count": 7,
   "id": "f93d80a0",
   "metadata": {
    "scrolled": true
   },
   "outputs": [
    {
     "name": "stdout",
     "output_type": "stream",
     "text": [
      "Total number of parameters:  99834\n"
     ]
    },
    {
     "data": {
      "text/plain": [
       "CNNClassif(\n",
       "  (cnn_layer1): Sequential(\n",
       "    (0): Conv2d(3, 16, kernel_size=(5, 5), stride=(1, 1), padding=(2, 2))\n",
       "    (1): ReLU()\n",
       "    (2): MaxPool2d(kernel_size=2, stride=2, padding=0, dilation=1, ceil_mode=False)\n",
       "  )\n",
       "  (cnn_layer2): Sequential(\n",
       "    (0): Conv2d(16, 32, kernel_size=(5, 5), stride=(1, 1), padding=(2, 2))\n",
       "    (1): ReLU()\n",
       "    (2): MaxPool2d(kernel_size=2, stride=2, padding=0, dilation=1, ceil_mode=False)\n",
       "  )\n",
       "  (cnn_layer3): Sequential(\n",
       "    (0): Conv2d(32, 64, kernel_size=(3, 3), stride=(1, 1), padding=(2, 2))\n",
       "    (1): ReLU()\n",
       "    (2): MaxPool2d(kernel_size=2, stride=2, padding=0, dilation=1, ceil_mode=False)\n",
       "  )\n",
       "  (linear_layer1): Sequential(\n",
       "    (0): Linear(in_features=1024, out_features=64, bias=True)\n",
       "    (1): ReLU()\n",
       "  )\n",
       "  (linear_layer2): Sequential(\n",
       "    (0): Linear(in_features=64, out_features=26, bias=True)\n",
       "    (1): ReLU()\n",
       "  )\n",
       ")"
      ]
     },
     "execution_count": 7,
     "metadata": {},
     "output_type": "execute_result"
    }
   ],
   "source": [
    "# Instantiate the model\n",
    "num_channels1 = 16\n",
    "num_channels2 = 32\n",
    "num_channels3 = 64\n",
    "num_classes = num_classes\n",
    "model = CNNClassif(num_channels1, num_channels2, num_channels3, num_classes)\n",
    "\n",
    "# Print the total number of parameters in the model\n",
    "print('Total number of parameters: ', sum(p.numel() for p in model.parameters()))\n",
    "\n",
    "# Initialization with manual seed and weights\n",
    "torch.manual_seed(0)\n",
    "model.apply(init_weights)"
   ]
  },
  {
   "cell_type": "code",
   "execution_count": 8,
   "id": "79168b49",
   "metadata": {},
   "outputs": [],
   "source": [
    "# Training function\n",
    "def training_cnn_classifier(model, train_dataloader, num_epochs, loss_fn, learning_rate, verbose=True):\n",
    "\n",
    "    # Making a copy of the model\n",
    "    model_tr = copy.deepcopy(model)\n",
    "    model_tr.train()\n",
    "    \n",
    "    optimizer = torch.optim.SGD(model_tr.parameters(), lr=learning_rate)\n",
    "    \n",
    "    loss_all_epochs = []\n",
    "    \n",
    "    for epoch in range(num_epochs):\n",
    "        loss_current_epoch = 0\n",
    "        \n",
    "        for batch_index, (images, labels) in enumerate(train_dataloader):\n",
    "            \n",
    "            y_pred = model_tr.forward(images)\n",
    "            loss = loss_fn(y_pred, labels)\n",
    "            \n",
    "            optimizer.zero_grad()\n",
    "            loss.backward()\n",
    "            optimizer.step()\n",
    "            \n",
    "            loss_current_epoch += loss.item()\n",
    "\n",
    "        loss_all_epochs.append(loss_current_epoch / (batch_index + 1))\n",
    "        if verbose:\n",
    "            print(f'Epoch [{epoch + 1}/{num_epochs}], Loss: {loss_current_epoch/(batch_index + 1):.4f}')\n",
    "        \n",
    "    return model_tr, loss_all_epochs"
   ]
  },
  {
   "cell_type": "code",
   "execution_count": 9,
   "id": "98fb14ed",
   "metadata": {},
   "outputs": [],
   "source": [
    "# Evaluation function\n",
    "def eval_cnn_classifier(model, eval_dataloader):\n",
    "\n",
    "    model.eval() \n",
    "\n",
    "    with torch.no_grad():\n",
    "        correct = 0\n",
    "        total = 0\n",
    "        for images, labels in eval_dataloader:\n",
    "            y_predicted = model(images)\n",
    "            _, label_predicted = torch.max(y_predicted.data, 1)\n",
    "            total += labels.size(0)\n",
    "            correct += (label_predicted == labels).sum().item()\n",
    "    \n",
    "    accuracy = 100 * correct / total\n",
    "    \n",
    "    return accuracy"
   ]
  },
  {
   "cell_type": "code",
   "execution_count": 10,
   "id": "02619949",
   "metadata": {
    "scrolled": true
   },
   "outputs": [
    {
     "name": "stdout",
     "output_type": "stream",
     "text": [
      "Total number of CNN parameters:  99834\n",
      "Epoch [1/30], Loss: 3.2586\n",
      "Epoch [2/30], Loss: 3.2526\n",
      "Epoch [3/30], Loss: 3.2437\n",
      "Epoch [4/30], Loss: 3.2302\n",
      "Epoch [5/30], Loss: 3.1968\n",
      "Epoch [6/30], Loss: 3.0923\n",
      "Epoch [7/30], Loss: 2.6951\n",
      "Epoch [8/30], Loss: 2.1009\n",
      "Epoch [9/30], Loss: 1.8269\n",
      "Epoch [10/30], Loss: 1.6584\n",
      "Epoch [11/30], Loss: 1.5484\n",
      "Epoch [12/30], Loss: 1.4540\n",
      "Epoch [13/30], Loss: 1.3858\n",
      "Epoch [14/30], Loss: 1.2403\n",
      "Epoch [15/30], Loss: 1.1507\n",
      "Epoch [16/30], Loss: 1.0904\n",
      "Epoch [17/30], Loss: 1.0308\n",
      "Epoch [18/30], Loss: 0.9225\n",
      "Epoch [19/30], Loss: 0.8303\n",
      "Epoch [20/30], Loss: 0.7989\n",
      "Epoch [21/30], Loss: 0.7446\n",
      "Epoch [22/30], Loss: 0.6821\n",
      "Epoch [23/30], Loss: 0.6841\n",
      "Epoch [24/30], Loss: 0.6062\n",
      "Epoch [25/30], Loss: 0.6053\n",
      "Epoch [26/30], Loss: 0.6683\n",
      "Epoch [27/30], Loss: 0.6385\n",
      "Epoch [28/30], Loss: 0.5656\n",
      "Epoch [29/30], Loss: 0.5510\n",
      "Epoch [30/30], Loss: 0.5441\n"
     ]
    },
    {
     "data": {
      "image/png": "[encoded data removed]",
      "text/plain": [
       "<Figure size 640x480 with 1 Axes>"
      ]
     },
     "metadata": {},
     "output_type": "display_data"
    },
    {
     "name": "stdout",
     "output_type": "stream",
     "text": [
      "Accuracy of the network on the test images: 75.0%\n"
     ]
    }
   ],
   "source": [
    "num_epochs = 30\n",
    "loss_fn = nn.CrossEntropyLoss()\n",
    "learning_rate = 0.01\n",
    "\n",
    "model = CNNClassif(num_channels1, num_channels2, num_channels3, num_classes)\n",
    "print('Total number of CNN parameters: ', sum(p.numel() for p in model.parameters()))\n",
    "torch.manual_seed(0)\n",
    "model.apply(init_weights)\n",
    "\n",
    "model, loss_total = training_cnn_classifier(model, train_dataloader, num_epochs, loss_fn, learning_rate, verbose=True)\n",
    "torch.save(model.state_dict(), 'test_model.pt')\n",
    "plt.plot(loss_total)\n",
    "plt.show()\n",
    "\n",
    "accuracy = eval_cnn_classifier(model, test_dataloader)\n",
    "print(f'Accuracy of the network on the test images: {accuracy}%')"
   ]
  }
 ],
 "metadata": {
  "kernelspec": {
   "display_name": "Python [conda env:nn_labs]",
   "language": "python",
   "name": "conda-env-nn_labs-py"
  },
  "language_info": {
   "codemirror_mode": {
    "name": "ipython",
    "version": 3
   },
   "file_extension": ".py",
   "mimetype": "text/x-python",
   "name": "python",
   "nbconvert_exporter": "python",
   "pygments_lexer": "ipython3",
   "version": "3.8.13"
  }
 },
 "nbformat": 4,
 "nbformat_minor": 5
}
